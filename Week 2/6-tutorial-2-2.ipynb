{
 "cells": [
  {
   "cell_type": "markdown",
   "metadata": {},
   "source": [
    "# Simple Programs"
   ]
  },
  {
   "cell_type": "markdown",
   "metadata": {},
   "source": [
    "### Area of a Circle"
   ]
  },
  {
   "cell_type": "code",
   "execution_count": 15,
   "metadata": {},
   "outputs": [
    {
     "name": "stdout",
     "output_type": "stream",
     "text": [
      "Area of the circle with radius 5.10 is 81.71.\n",
      "Area of the circle with radius 5.10 is 81.71.\n"
     ]
    }
   ],
   "source": [
    "# Area of a Circle\n",
    "\n",
    "import math as m\n",
    "\n",
    "PI = m.pi\n",
    "radius = float(input(\"Enter radius of a circle: \"))\n",
    "\n",
    "area = PI * m.pow(radius, 2)\n",
    "print(f\"Area of the circle with radius {radius:.2f} is {area:.2f}.\")\n",
    "print(\"Area of the circle with radius %.2f\"%radius, \"is %.2f\"%area, \"\\b.\")    # without f-strings"
   ]
  },
  {
   "cell_type": "markdown",
   "metadata": {},
   "source": [
    "### Area of a Hexagon &emsp; $\\frac{3\\sqrt{3}}{2} a^2$ "
   ]
  },
  {
   "cell_type": "code",
   "execution_count": 19,
   "metadata": {},
   "outputs": [
    {
     "name": "stdout",
     "output_type": "stream",
     "text": [
      "Area of hexagon is 10.39\n"
     ]
    }
   ],
   "source": [
    "# Area of a Hexagon \n",
    "\n",
    "import math\n",
    "\n",
    "side = float(input('Enter side length of a hexagon: '))\n",
    "area = (3*math.sqrt(3)/2)*math.pow(side, 2)\n",
    "\n",
    "print(f'Area of hexagon is {area:.2f}')"
   ]
  }
 ],
 "metadata": {
  "kernelspec": {
   "display_name": "Python 3",
   "language": "python",
   "name": "python3"
  },
  "language_info": {
   "codemirror_mode": {
    "name": "ipython",
    "version": 3
   },
   "file_extension": ".py",
   "mimetype": "text/x-python",
   "name": "python",
   "nbconvert_exporter": "python",
   "pygments_lexer": "ipython3",
   "version": "3.10.14"
  }
 },
 "nbformat": 4,
 "nbformat_minor": 2
}
